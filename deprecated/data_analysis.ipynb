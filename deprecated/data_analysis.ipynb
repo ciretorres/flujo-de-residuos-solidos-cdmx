{
 "cells": [
  {
   "cell_type": "code",
   "execution_count": 1,
   "metadata": {},
   "outputs": [],
   "source": [
    "from datascience import *\n",
    "import numpy as np\n",
    "\n",
    "%matplotlib inline\n",
    "import matplotlib.pyplot as plots\n",
    "plots.style.use('fivethirtyeight')"
   ]
  },
  {
   "cell_type": "code",
   "execution_count": 110,
   "metadata": {},
   "outputs": [
    {
     "data": {
      "text/html": [
       "<table border=\"1\" class=\"dataframe\">\n",
       "    <thead>\n",
       "        <tr>\n",
       "            <th>id_sitio_trans</th> <th>sitiodispfinal_milagro</th> <th>sitiodispfinal_cañada</th> <th>sitiodispfinal_cuauti</th> <th>sitiodispfinal_chicolo</th> <th>sitiodispfinal_cuautla</th> <th>planta_compost</th> <th>plantaselec_stacat</th> <th>plantaselec_sja</th>\n",
       "        </tr>\n",
       "    </thead>\n",
       "    <tbody>\n",
       "        <tr>\n",
       "            <td>sitio_transferencia_miguelh </td> <td>0                     </td> <td>0                    </td> <td>0                    </td> <td>0                     </td> <td>0                     </td> <td>0             </td> <td>0                 </td> <td>0              </td>\n",
       "        </tr>\n",
       "    </tbody>\n",
       "        <tr>\n",
       "            <td>sitio_transferencia_alvaro  </td> <td>199.61                </td> <td>309.14               </td> <td>272.88               </td> <td>0                     </td> <td>0                     </td> <td>146.41        </td> <td>81.13             </td> <td>295.15         </td>\n",
       "        </tr>\n",
       "    </tbody>\n",
       "        <tr>\n",
       "            <td>sitio_transferencia_tlalpan </td> <td>65.15                 </td> <td>122.23               </td> <td>0                    </td> <td>0                     </td> <td>0                     </td> <td>111.79        </td> <td>34.9              </td> <td>7.05           </td>\n",
       "        </tr>\n",
       "    </tbody>\n",
       "        <tr>\n",
       "            <td>sitio_transferencia_coyo    </td> <td>226.13                </td> <td>335.28               </td> <td>0                    </td> <td>6.71                  </td> <td>6.49                  </td> <td>294.19        </td> <td>76.67             </td> <td>122.37         </td>\n",
       "        </tr>\n",
       "    </tbody>\n",
       "        <tr>\n",
       "            <td>sitio_transferencia_xochi   </td> <td>88.41                 </td> <td>141.19               </td> <td>0.14                 </td> <td>0                     </td> <td>0                     </td> <td>78.2          </td> <td>73.19             </td> <td>4.2            </td>\n",
       "        </tr>\n",
       "    </tbody>\n",
       "        <tr>\n",
       "            <td>sitio_transferencia_milpa   </td> <td>6.45                  </td> <td>22.45                </td> <td>0.04                 </td> <td>0                     </td> <td>0                     </td> <td>22.73         </td> <td>10.42             </td> <td>0.03           </td>\n",
       "        </tr>\n",
       "    </tbody>\n",
       "        <tr>\n",
       "            <td>sitio_transferencia_venus   </td> <td>353.14                </td> <td>27.65                </td> <td>0                    </td> <td>4.31                  </td> <td>0                     </td> <td>106.92        </td> <td>38.23             </td> <td>20.24          </td>\n",
       "        </tr>\n",
       "    </tbody>\n",
       "        <tr>\n",
       "            <td>sitio_transferncia_benito   </td> <td>67.07                 </td> <td>111.81               </td> <td>38.01                </td> <td>3.72                  </td> <td>0                     </td> <td>45.04         </td> <td>30.99             </td> <td>72.9           </td>\n",
       "        </tr>\n",
       "    </tbody>\n",
       "        <tr>\n",
       "            <td>sitio_tranferencia_iztapa   </td> <td>419.03                </td> <td>579.39               </td> <td>9.51                 </td> <td>36.74                 </td> <td>0                     </td> <td>191.63        </td> <td>46.59             </td> <td>343.63         </td>\n",
       "        </tr>\n",
       "    </tbody>\n",
       "        <tr>\n",
       "            <td>sio_transferencia_cuauhtémoc</td> <td>151.94                </td> <td>286.8                </td> <td>39.28                </td> <td>19.53                 </td> <td>0                     </td> <td>51.91         </td> <td>49.34             </td> <td>90.34          </td>\n",
       "        </tr>\n",
       "    </tbody>\n",
       "        <tr>\n",
       "            <td>sito_transferencia_gam      </td> <td>6.75                  </td> <td>9.13                 </td> <td>13.3                 </td> <td>0.86                  </td> <td>0                     </td> <td>119.46        </td> <td>0                 </td> <td>6.51           </td>\n",
       "        </tr>\n",
       "    </tbody>\n",
       "        <tr>\n",
       "            <td>sitio_transferencia_azcapo  </td> <td>272.24                </td> <td>91.08                </td> <td>350.41               </td> <td>13.1                  </td> <td>0                     </td> <td>104.3         </td> <td>49.35             </td> <td>168.56         </td>\n",
       "        </tr>\n",
       "    </tbody>\n",
       "</table>"
      ],
      "text/plain": [
       "<IPython.core.display.HTML object>"
      ]
     },
     "metadata": {},
     "output_type": "display_data"
    }
   ],
   "source": [
    "sitio_trans = Table.read_table('data/sitio_transferencia.csv')\n",
    "sitio_trans.show()"
   ]
  },
  {
   "cell_type": "code",
   "execution_count": 116,
   "metadata": {},
   "outputs": [
    {
     "data": {
      "text/html": [
       "<table border=\"1\" class=\"dataframe\">\n",
       "    <thead>\n",
       "        <tr>\n",
       "            <th>id_sitio_trans</th> <th>sitiodispfinal_milagro</th> <th>sitiodispfinal_cañada</th> <th>sitiodispfinal_cuauti</th> <th>sitiodispfinal_chicolo</th> <th>sitiodispfinal_cuautla</th> <th>planta_compost</th> <th>plantaselec_stacat</th> <th>plantaselec_sja</th>\n",
       "        </tr>\n",
       "    </thead>\n",
       "    <tbody>\n",
       "        <tr>\n",
       "            <td>sito_transferencia_gam</td> <td>6.75                  </td> <td>9.13                 </td> <td>13.3                 </td> <td>0.86                  </td> <td>0                     </td> <td>119.46        </td> <td>0                 </td> <td>6.51           </td>\n",
       "        </tr>\n",
       "    </tbody>\n",
       "</table>"
      ],
      "text/plain": [
       "id_sitio_trans         | sitiodispfinal_milagro | sitiodispfinal_cañada | sitiodispfinal_cuauti | sitiodispfinal_chicolo | sitiodispfinal_cuautla | planta_compost | plantaselec_stacat | plantaselec_sja\n",
       "sito_transferencia_gam | 6.75                   | 9.13                  | 13.3                  | 0.86                   | 0                      | 119.46         | 0                  | 6.51"
      ]
     },
     "execution_count": 116,
     "metadata": {},
     "output_type": "execute_result"
    }
   ],
   "source": [
    "a = sitio_trans.where(0, are.equal_to('sito_transferencia_gam'))\n",
    "a"
   ]
  },
  {
   "cell_type": "code",
   "execution_count": 117,
   "metadata": {},
   "outputs": [
    {
     "data": {
      "text/plain": [
       "156.01"
      ]
     },
     "execution_count": 117,
     "metadata": {},
     "output_type": "execute_result"
    }
   ],
   "source": [
    "# Sin incluir Planta compactadora\n",
    "sum(a.column(1)+a.column(2)+a.column(3)+a.column(4)+a.column(5)+a.column(6)+a.column(7)+a.column(8))"
   ]
  },
  {
   "cell_type": "code",
   "execution_count": 83,
   "metadata": {},
   "outputs": [
    {
     "data": {
      "text/plain": [
       "726.83"
      ]
     },
     "execution_count": 83,
     "metadata": {},
     "output_type": "execute_result"
    }
   ],
   "source": [
    "# Solo Sitios de disposición final\n",
    "b = sitio_trans.where(0, are.equal_to('sitio_transferencia_azcapo'))\n",
    "sum(b.column(1)+b.column(2)+b.column(3)+b.column(4)+b.column(5))"
   ]
  },
  {
   "cell_type": "code",
   "execution_count": 35,
   "metadata": {},
   "outputs": [
    {
     "data": {
      "text/plain": [
       "1855.92"
      ]
     },
     "execution_count": 35,
     "metadata": {},
     "output_type": "execute_result"
    }
   ],
   "source": [
    "# Total Milagro\n",
    "sum(sitio_trans.column(1))"
   ]
  },
  {
   "cell_type": "code",
   "execution_count": 39,
   "metadata": {},
   "outputs": [
    {
     "data": {
      "text/html": [
       "<table border=\"1\" class=\"dataframe\">\n",
       "    <thead>\n",
       "        <tr>\n",
       "            <th>id_sitio_trans</th> <th>sitiodispfinal_milagro</th> <th>sitiodispfinal_cañada</th> <th>sitiodispfinal_cuauti</th> <th>sitiodispfinal_chicolo</th> <th>sitiodispfinal_cuautla</th>\n",
       "        </tr>\n",
       "    </thead>\n",
       "    <tbody>\n",
       "        <tr>\n",
       "            <td>sitio_transferencia_miguelh </td> <td>0                     </td> <td>0                    </td> <td>0                    </td> <td>0                     </td> <td>0                     </td>\n",
       "        </tr>\n",
       "    </tbody>\n",
       "        <tr>\n",
       "            <td>sitio_transferencia_alvaro  </td> <td>199.61                </td> <td>309.14               </td> <td>272.88               </td> <td>0                     </td> <td>0                     </td>\n",
       "        </tr>\n",
       "    </tbody>\n",
       "        <tr>\n",
       "            <td>sitio_transferencia_tlalpan </td> <td>65.15                 </td> <td>122.23               </td> <td>0                    </td> <td>0                     </td> <td>0                     </td>\n",
       "        </tr>\n",
       "    </tbody>\n",
       "        <tr>\n",
       "            <td>sitio_transferencia_coyo    </td> <td>226.13                </td> <td>335.28               </td> <td>0                    </td> <td>6.71                  </td> <td>6.49                  </td>\n",
       "        </tr>\n",
       "    </tbody>\n",
       "        <tr>\n",
       "            <td>sitio_transferencia_xochi   </td> <td>88.41                 </td> <td>141.19               </td> <td>0.14                 </td> <td>0                     </td> <td>0                     </td>\n",
       "        </tr>\n",
       "    </tbody>\n",
       "        <tr>\n",
       "            <td>sitio_transferencia_milpa   </td> <td>6.45                  </td> <td>22.45                </td> <td>0.04                 </td> <td>0                     </td> <td>0                     </td>\n",
       "        </tr>\n",
       "    </tbody>\n",
       "        <tr>\n",
       "            <td>sitio_transferencia_venus   </td> <td>353.14                </td> <td>27.65                </td> <td>0                    </td> <td>4.31                  </td> <td>0                     </td>\n",
       "        </tr>\n",
       "    </tbody>\n",
       "        <tr>\n",
       "            <td>sitio_transferncia_benito   </td> <td>67.07                 </td> <td>111.81               </td> <td>38.01                </td> <td>3.72                  </td> <td>0                     </td>\n",
       "        </tr>\n",
       "    </tbody>\n",
       "        <tr>\n",
       "            <td>sitio_tranferencia_iztapa   </td> <td>419.03                </td> <td>579.39               </td> <td>9.51                 </td> <td>36.74                 </td> <td>0                     </td>\n",
       "        </tr>\n",
       "    </tbody>\n",
       "        <tr>\n",
       "            <td>sio_transferencia_cuauhtémoc</td> <td>151.94                </td> <td>286.8                </td> <td>39.28                </td> <td>19.53                 </td> <td>0                     </td>\n",
       "        </tr>\n",
       "    </tbody>\n",
       "</table>\n",
       "<p>... (2 rows omitted)</p>"
      ],
      "text/plain": [
       "id_sitio_trans               | sitiodispfinal_milagro | sitiodispfinal_cañada | sitiodispfinal_cuauti | sitiodispfinal_chicolo | sitiodispfinal_cuautla\n",
       "sitio_transferencia_miguelh  | 0                      | 0                     | 0                     | 0                      | 0\n",
       "sitio_transferencia_alvaro   | 199.61                 | 309.14                | 272.88                | 0                      | 0\n",
       "sitio_transferencia_tlalpan  | 65.15                  | 122.23                | 0                     | 0                      | 0\n",
       "sitio_transferencia_coyo     | 226.13                 | 335.28                | 0                     | 6.71                   | 6.49\n",
       "sitio_transferencia_xochi    | 88.41                  | 141.19                | 0.14                  | 0                      | 0\n",
       "sitio_transferencia_milpa    | 6.45                   | 22.45                 | 0.04                  | 0                      | 0\n",
       "sitio_transferencia_venus    | 353.14                 | 27.65                 | 0                     | 4.31                   | 0\n",
       "sitio_transferncia_benito    | 67.07                  | 111.81                | 38.01                 | 3.72                   | 0\n",
       "sitio_tranferencia_iztapa    | 419.03                 | 579.39                | 9.51                  | 36.74                  | 0\n",
       "sio_transferencia_cuauhtémoc | 151.94                 | 286.8                 | 39.28                 | 19.53                  | 0\n",
       "... (2 rows omitted)"
      ]
     },
     "execution_count": 39,
     "metadata": {},
     "output_type": "execute_result"
    }
   ],
   "source": [
    "sitio_trans.select(np.arange(6))"
   ]
  },
  {
   "cell_type": "code",
   "execution_count": 40,
   "metadata": {},
   "outputs": [
    {
     "data": {
      "text/plain": [
       "2036.1499999999999"
      ]
     },
     "execution_count": 40,
     "metadata": {},
     "output_type": "execute_result"
    }
   ],
   "source": [
    "# Cañada\n",
    "sum(sitio_trans.column(2))"
   ]
  },
  {
   "cell_type": "code",
   "execution_count": 41,
   "metadata": {},
   "outputs": [
    {
     "data": {
      "text/plain": [
       "723.57"
      ]
     },
     "execution_count": 41,
     "metadata": {},
     "output_type": "execute_result"
    }
   ],
   "source": [
    "# Cuautitlán\n",
    "sum(sitio_trans.column(3))"
   ]
  },
  {
   "cell_type": "code",
   "execution_count": 42,
   "metadata": {},
   "outputs": [
    {
     "data": {
      "text/plain": [
       "84.97"
      ]
     },
     "execution_count": 42,
     "metadata": {},
     "output_type": "execute_result"
    }
   ],
   "source": [
    "# Chicoloapan\n",
    "sum(sitio_trans.column(4))"
   ]
  },
  {
   "cell_type": "code",
   "execution_count": 43,
   "metadata": {},
   "outputs": [
    {
     "data": {
      "text/plain": [
       "6.49"
      ]
     },
     "execution_count": 43,
     "metadata": {},
     "output_type": "execute_result"
    }
   ],
   "source": [
    "# Cuautla\n",
    "sum(sitio_trans.column(5))"
   ]
  },
  {
   "cell_type": "code",
   "execution_count": 48,
   "metadata": {},
   "outputs": [
    {
     "data": {
      "text/html": [
       "<table border=\"1\" class=\"dataframe\">\n",
       "    <thead>\n",
       "        <tr>\n",
       "            <th>id_sitio_trans</th> <th>plantaselec_stacat</th> <th>plantaselec_sja</th>\n",
       "        </tr>\n",
       "    </thead>\n",
       "    <tbody>\n",
       "        <tr>\n",
       "            <td>sitio_transferencia_miguelh </td> <td>0                 </td> <td>0              </td>\n",
       "        </tr>\n",
       "    </tbody>\n",
       "        <tr>\n",
       "            <td>sitio_transferencia_alvaro  </td> <td>81.13             </td> <td>295.15         </td>\n",
       "        </tr>\n",
       "    </tbody>\n",
       "        <tr>\n",
       "            <td>sitio_transferencia_tlalpan </td> <td>34.9              </td> <td>7.05           </td>\n",
       "        </tr>\n",
       "    </tbody>\n",
       "        <tr>\n",
       "            <td>sitio_transferencia_coyo    </td> <td>76.67             </td> <td>122.37         </td>\n",
       "        </tr>\n",
       "    </tbody>\n",
       "        <tr>\n",
       "            <td>sitio_transferencia_xochi   </td> <td>73.19             </td> <td>4.2            </td>\n",
       "        </tr>\n",
       "    </tbody>\n",
       "        <tr>\n",
       "            <td>sitio_transferencia_milpa   </td> <td>10.42             </td> <td>0.03           </td>\n",
       "        </tr>\n",
       "    </tbody>\n",
       "        <tr>\n",
       "            <td>sitio_transferencia_venus   </td> <td>38.23             </td> <td>20.24          </td>\n",
       "        </tr>\n",
       "    </tbody>\n",
       "        <tr>\n",
       "            <td>sitio_transferncia_benito   </td> <td>30.99             </td> <td>72.9           </td>\n",
       "        </tr>\n",
       "    </tbody>\n",
       "        <tr>\n",
       "            <td>sitio_tranferencia_iztapa   </td> <td>46.59             </td> <td>343.63         </td>\n",
       "        </tr>\n",
       "    </tbody>\n",
       "        <tr>\n",
       "            <td>sio_transferencia_cuauhtémoc</td> <td>49.34             </td> <td>90.34          </td>\n",
       "        </tr>\n",
       "    </tbody>\n",
       "        <tr>\n",
       "            <td>sito_transferencia_gam      </td> <td>0                 </td> <td>6.51           </td>\n",
       "        </tr>\n",
       "    </tbody>\n",
       "        <tr>\n",
       "            <td>sitio_transferencia_azcapo  </td> <td>49.35             </td> <td>168.56         </td>\n",
       "        </tr>\n",
       "    </tbody>\n",
       "</table>"
      ],
      "text/plain": [
       "<IPython.core.display.HTML object>"
      ]
     },
     "metadata": {},
     "output_type": "display_data"
    }
   ],
   "source": [
    "sitio_trans.select(0,7,8).show()"
   ]
  },
  {
   "cell_type": "code",
   "execution_count": 51,
   "metadata": {},
   "outputs": [
    {
     "data": {
      "text/plain": [
       "490.81000000000006"
      ]
     },
     "execution_count": 51,
     "metadata": {},
     "output_type": "execute_result"
    }
   ],
   "source": [
    "# Santa Catarina\n",
    "sum(sitio_trans.column(7))"
   ]
  },
  {
   "cell_type": "code",
   "execution_count": 52,
   "metadata": {},
   "outputs": [
    {
     "data": {
      "text/plain": [
       "1130.98"
      ]
     },
     "execution_count": 52,
     "metadata": {},
     "output_type": "execute_result"
    }
   ],
   "source": [
    "# San Juan Aragón\n",
    "sum(sitio_trans.column(8))"
   ]
  },
  {
   "cell_type": "code",
   "execution_count": 49,
   "metadata": {},
   "outputs": [
    {
     "data": {
      "text/html": [
       "<table border=\"1\" class=\"dataframe\">\n",
       "    <thead>\n",
       "        <tr>\n",
       "            <th>id_sitio_trans</th> <th>planta_compost</th>\n",
       "        </tr>\n",
       "    </thead>\n",
       "    <tbody>\n",
       "        <tr>\n",
       "            <td>sitio_transferencia_miguelh </td> <td>0             </td>\n",
       "        </tr>\n",
       "    </tbody>\n",
       "        <tr>\n",
       "            <td>sitio_transferencia_alvaro  </td> <td>146.41        </td>\n",
       "        </tr>\n",
       "    </tbody>\n",
       "        <tr>\n",
       "            <td>sitio_transferencia_tlalpan </td> <td>111.79        </td>\n",
       "        </tr>\n",
       "    </tbody>\n",
       "        <tr>\n",
       "            <td>sitio_transferencia_coyo    </td> <td>294.19        </td>\n",
       "        </tr>\n",
       "    </tbody>\n",
       "        <tr>\n",
       "            <td>sitio_transferencia_xochi   </td> <td>78.2          </td>\n",
       "        </tr>\n",
       "    </tbody>\n",
       "        <tr>\n",
       "            <td>sitio_transferencia_milpa   </td> <td>22.73         </td>\n",
       "        </tr>\n",
       "    </tbody>\n",
       "        <tr>\n",
       "            <td>sitio_transferencia_venus   </td> <td>106.92        </td>\n",
       "        </tr>\n",
       "    </tbody>\n",
       "        <tr>\n",
       "            <td>sitio_transferncia_benito   </td> <td>45.04         </td>\n",
       "        </tr>\n",
       "    </tbody>\n",
       "        <tr>\n",
       "            <td>sitio_tranferencia_iztapa   </td> <td>191.63        </td>\n",
       "        </tr>\n",
       "    </tbody>\n",
       "        <tr>\n",
       "            <td>sio_transferencia_cuauhtémoc</td> <td>51.91         </td>\n",
       "        </tr>\n",
       "    </tbody>\n",
       "        <tr>\n",
       "            <td>sito_transferencia_gam      </td> <td>119.46        </td>\n",
       "        </tr>\n",
       "    </tbody>\n",
       "        <tr>\n",
       "            <td>sitio_transferencia_azcapo  </td> <td>104.3         </td>\n",
       "        </tr>\n",
       "    </tbody>\n",
       "</table>"
      ],
      "text/plain": [
       "<IPython.core.display.HTML object>"
      ]
     },
     "metadata": {},
     "output_type": "display_data"
    }
   ],
   "source": [
    "sitio_trans.select(0,6).show()"
   ]
  },
  {
   "cell_type": "code",
   "execution_count": 50,
   "metadata": {},
   "outputs": [
    {
     "data": {
      "text/plain": [
       "1272.58"
      ]
     },
     "execution_count": 50,
     "metadata": {},
     "output_type": "execute_result"
    }
   ],
   "source": [
    "sum(sitio_trans.column(6))"
   ]
  },
  {
   "cell_type": "code",
   "execution_count": null,
   "metadata": {},
   "outputs": [],
   "source": []
  }
 ],
 "metadata": {
  "kernelspec": {
   "display_name": "Python 3",
   "language": "python",
   "name": "python3"
  },
  "language_info": {
   "codemirror_mode": {
    "name": "ipython",
    "version": 3
   },
   "file_extension": ".py",
   "mimetype": "text/x-python",
   "name": "python",
   "nbconvert_exporter": "python",
   "pygments_lexer": "ipython3",
   "version": "3.6.4"
  }
 },
 "nbformat": 4,
 "nbformat_minor": 2
}
